{
 "cells": [
  {
   "cell_type": "markdown",
   "metadata": {},
   "source": [
    "# High-level Goal"
   ]
  },
  {
   "cell_type": "markdown",
   "metadata": {},
   "source": [
    "Our aim in this study is to find good candiates that one could use for expiration trading. \n",
    "\n",
    "1. Getting the minute-level data for the past 5 years from IB\n",
    "2. getting the strikes from IB.\n",
    "3. Getting the statistics from `Jeff Augen` book. \n",
    "\n",
    "Next, it is important to run the analysis and make sure the behavior of stocks is as one thought. For example\n",
    "\n",
    "1. Statistics on strike crosses.\n",
    "2. Statistics on minutes more than a \\$1 away from any of the strikes.\n",
    "3. Pinning statistics.\n",
    "4. Best way to monetize this. "
   ]
  },
  {
   "cell_type": "markdown",
   "metadata": {
    "collapsed": true
   },
   "source": [
    "#  Implementation of Expiration Trading Statistics"
   ]
  },
  {
   "cell_type": "code",
   "execution_count": 13,
   "metadata": {
    "collapsed": true
   },
   "outputs": [],
   "source": [
    "from IBPY import IB_PY\n",
    "from Function_Expiration_Trading import expiration_stats\n",
    "import numpy as np\n",
    "import pandas as pd\n",
    "import datetime\n",
    "import time\n",
    "# ===================\n",
    "import matplotlib.pyplot as plt\n",
    "%matplotlib inline\n",
    "import matplotlib\n",
    "matplotlib.style.use('ggplot')"
   ]
  },
  {
   "cell_type": "code",
   "execution_count": 14,
   "metadata": {
    "collapsed": true
   },
   "outputs": [],
   "source": [
    "# Testing the function\n",
    "# defining the strikes\n",
    "strikes1 = np.arange(100, 150.0, 5, dtype = np.double)\n",
    "strikes2 = np.arange(150, 206.0, 2.5, dtype = np.double)\n",
    "addendum = np.array([147, 148, 210], dtype = np.double)\n",
    "\n",
    "strikes = np.concatenate((strikes1, strikes2, addendum))\n",
    "strikes = np.unique(np.sort(strikes, axis = None))\n",
    "# print strikes"
   ]
  },
  {
   "cell_type": "code",
   "execution_count": null,
   "metadata": {
    "collapsed": true
   },
   "outputs": [],
   "source": [
    "ticker = 'AAPL'\n",
    "# Notice! This algo will fail if the time is not defined correctly\n",
    "# The time has to be 16 of the friday and i minute in. \n",
    "last_friday = datetime.datetime(2017, 12, 22, 16, 1, 0) \n",
    "how_many_weeks = 52"
   ]
  },
  {
   "cell_type": "code",
   "execution_count": null,
   "metadata": {
    "collapsed": true
   },
   "outputs": [],
   "source": [
    "stats = np.empty((0, 4))\n",
    "for i in range(how_many_weeks):\n",
    "    res = expiration_stats(ticker_=ticker, \n",
    "                           date_= last_friday, \n",
    "                           strikes_= strikes, \n",
    "                           ib_whatToShow_= 'MIDPOINT', \n",
    "                           threshold_=0.3)\n",
    "    stats = np.vstack((stats, np.array(res)))\n",
    "    last_friday = last_friday - datetime.timedelta(days = 7)\n",
    "    time.sleep(2)"
   ]
  },
  {
   "cell_type": "markdown",
   "metadata": {},
   "source": [
    "# Statistics"
   ]
  },
  {
   "cell_type": "code",
   "execution_count": null,
   "metadata": {
    "collapsed": true
   },
   "outputs": [],
   "source": [
    "# This part you can get your stats for one ticker\n"
   ]
  }
 ],
 "metadata": {
  "kernelspec": {
   "display_name": "Python 2",
   "language": "python",
   "name": "python2"
  },
  "language_info": {
   "codemirror_mode": {
    "name": "ipython",
    "version": 2
   },
   "file_extension": ".py",
   "mimetype": "text/x-python",
   "name": "python",
   "nbconvert_exporter": "python",
   "pygments_lexer": "ipython2",
   "version": "2.7.12"
  }
 },
 "nbformat": 4,
 "nbformat_minor": 2
}
